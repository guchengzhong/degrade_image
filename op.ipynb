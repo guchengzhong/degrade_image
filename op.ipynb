{
 "cells": [
  {
   "cell_type": "code",
   "execution_count": 1,
   "metadata": {},
   "outputs": [],
   "source": [
    "import torch\n",
    "import numpy as np\n",
    "import matplotlib.pyplot as plt\n",
    "import torch.nn.functional as F"
   ]
  },
  {
   "cell_type": "code",
   "execution_count": 27,
   "metadata": {},
   "outputs": [],
   "source": [
    "noddi= torch.from_numpy(np.load('../data/noddi.npy'))"
   ]
  },
  {
   "cell_type": "code",
   "execution_count": 3,
   "metadata": {},
   "outputs": [],
   "source": [
    "# show img\n",
    "def show_img(restore_x1, name1, restore_x2, name2, font_size= 16):\n",
    "    if isinstance(restore_x1, torch.Tensor) or isinstance(restore_x2, torch.Tensor):\n",
    "        restore_x1, restore_x2= restore_x1.numpy(), restore_x2.numpy()\n",
    "    fig, axs = plt.subplots(nrows=2, ncols=3, figsize=(25.2, 20))\n",
    "    a, b, c = restore_x1[0].shape\n",
    "    # add image\n",
    "    axs[0, 0].imshow(restore_x1[0, :, :, c // 2].T[::-1], cmap='gray')\n",
    "    axs[0, 1].imshow(restore_x1[1, :, :, c // 2].T[::-1], cmap='gray')\n",
    "    axs[0, 2].imshow(restore_x1[2, :, :, c // 2].T[::-1], cmap='gray')\n",
    "    axs[1, 0].imshow(restore_x2[0, :, :, c // 2].T[::-1], cmap='gray')\n",
    "    axs[1, 1].imshow(restore_x2[1, :, :, c // 2].T[::-1], cmap='gray')\n",
    "    axs[1, 2].imshow(restore_x2[2, :, :, c // 2].T[::-1], cmap='gray')\n",
    "    # drop axis\n",
    "    for ax in axs.flat:\n",
    "        ax.axis('off')\n",
    "    # add titles\n",
    "    col_titles = ['Axial plane1', 'Axial plane2', 'Axial plane3']\n",
    "    row_titles = [name1, name2]\n",
    "    font_dict = {'family': 'Times New Roman', 'size': font_size}\n",
    "    for ax, col in zip(axs[0], col_titles):\n",
    "        ax.set_title(col, fontdict=font_dict, fontweight='bold')\n",
    "    for i, row in enumerate(row_titles):\n",
    "        fig.text(0.1, 0.7- i* 0.4, row, ha= 'center', va= 'center', fontsize= font_size, fontfamily= 'Times New Roman', rotation= 90, fontweight='bold')\n",
    "    # adjust gaps\n",
    "    plt.subplots_adjust(wspace=0, hspace=0)\n",
    "    plt.show()"
   ]
  },
  {
   "cell_type": "code",
   "execution_count": 4,
   "metadata": {},
   "outputs": [],
   "source": [
    "# apply gaussian blur on image\n",
    "def gaussian_blur_3d(img, kernel_size= 5, sigma= 1.0):\n",
    "    channels, depth, height, width= img.shape\n",
    "    # 3d gaussian kernel\n",
    "    grid= torch.stack(torch.meshgrid([torch.arange(size, dtype= torch.float32) for size in [kernel_size]* 3]), dim= -1)\n",
    "    grid= grid- (kernel_size- 1)/ 2.0\n",
    "    kernel= torch.exp(-(grid** 2).sum(-1)/ (2* sigma** 2))\n",
    "    kernel= kernel/ kernel.sum()\n",
    "    kernel= kernel.view(1, 1, *kernel.shape)  # [1, 1, k, k, k]\n",
    "    kernel= kernel.repeat(channels, 1, 1, 1, 1)  # [C, 1, k, k, k]\n",
    "    # conv\n",
    "    img= img.unsqueeze(0)  # [1, C, D, H, W]\n",
    "    blurred_img= F.conv3d(img, kernel, padding= kernel_size//2, groups= channels)\n",
    "    return blurred_img.squeeze(0)  # [C, D, H, W]"
   ]
  },
  {
   "cell_type": "code",
   "execution_count": 8,
   "metadata": {},
   "outputs": [],
   "source": [
    "noddi_blur= gaussian_blur_3d(noddi, 3, 1e0)\n",
    "%matplotlib qt\n",
    "show_img(noddi, 'NODDI', noddi_blur, 'After blur')"
   ]
  },
  {
   "cell_type": "code",
   "execution_count": 9,
   "metadata": {},
   "outputs": [],
   "source": [
    "# apply sharp on image\n",
    "def sharpen_3d(img, alpha= 0.1, ratio= 0.4):\n",
    "    channels, depth, height, width= img.shape\n",
    "    # define laplacian kernel\n",
    "    laplacian_kernel= torch.tensor([[[[0,  0,  0],\n",
    "                                       [0, -1,  0],\n",
    "                                       [0,  0,  0]],\n",
    "                                      [[0, -1,  0],\n",
    "                                       [-1, 6, -1],\n",
    "                                       [0, -1,  0]],\n",
    "                                      [[0,  0,  0],\n",
    "                                       [0, -1,  0],\n",
    "                                       [0,  0,  0]]]], dtype= torch.float32)\n",
    "    # adjust kernel, [1, 1, 3, 3, 3]\n",
    "    laplacian_kernel= laplacian_kernel.view(1, 1, 3, 3, 3)\n",
    "    laplacian_kernel= laplacian_kernel.repeat(channels, 1, 1, 1, 1)\n",
    "    # add batch\n",
    "    img= img.unsqueeze(0) # [1, C, D, H, W]\n",
    "    # 3dconv\n",
    "    sharpened_img= F.conv3d(img, alpha* laplacian_kernel, padding= 1, groups= channels)\n",
    "    # mix by interpolate\n",
    "    return ratio* sharpened_img.squeeze(0)+ (1- ratio)* img.squeeze(0)  # [C, D, H, W]"
   ]
  },
  {
   "cell_type": "code",
   "execution_count": 10,
   "metadata": {},
   "outputs": [],
   "source": [
    "noddi_sharp= sharpen_3d(noddi, 1, 1e-2)\n",
    "noddi_sharp[noddi_sharp<= 1e-2]= 0\n",
    "show_img(noddi, 'NODDI', noddi_sharp, 'After sharp')"
   ]
  },
  {
   "cell_type": "code",
   "execution_count": 11,
   "metadata": {},
   "outputs": [],
   "source": [
    "# pseudo jpeg compression \n",
    "# quality \\in [0, 100)\n",
    "def compression_3d(img, quality= 99.9):\n",
    "    quantization_factor= (100- quality)/ 100.0\n",
    "    quantized_img= torch.round(img/ (quantization_factor+ 1e-10))* quantization_factor\n",
    "    return torch.clamp(quantized_img, 0, 1)"
   ]
  },
  {
   "cell_type": "code",
   "execution_count": 12,
   "metadata": {},
   "outputs": [],
   "source": [
    "noddi_cprs= compression_3d(noddi, 80)\n",
    "show_img(noddi, 'NODDI', noddi_cprs, 'After compress')"
   ]
  },
  {
   "cell_type": "code",
   "execution_count": 13,
   "metadata": {},
   "outputs": [
    {
     "name": "stderr",
     "output_type": "stream",
     "text": [
      "<>:3: SyntaxWarning: assertion is always true, perhaps remove parentheses?\n",
      "<>:3: SyntaxWarning: assertion is always true, perhaps remove parentheses?\n",
      "C:\\Users\\Administrator\\AppData\\Local\\Temp\\ipykernel_2680\\1296178938.py:3: SyntaxWarning: assertion is always true, perhaps remove parentheses?\n",
      "  assert(x.shape[-1]% 2== 0 and x.shape[-2]% 2== 0 and x.shape[-3]% 2== 0, 'Dim should be even.')\n"
     ]
    }
   ],
   "source": [
    "# downsample and upsample\n",
    "def dusample_3d(x):\n",
    "    assert(x.shape[-1]% 2== 0 and x.shape[-2]% 2== 0 and x.shape[-3]% 2== 0, 'Dim should be even.')\n",
    "    x_ds= F.interpolate(x.unsqueeze(0), scale_factor= (0.5, 0.5, 0.5))\n",
    "    return F.interpolate(x_ds, scale_factor= (2, 2, 2)).squeeze(0)"
   ]
  },
  {
   "cell_type": "code",
   "execution_count": 14,
   "metadata": {},
   "outputs": [],
   "source": [
    "noddi_du= dusample_3d(noddi)\n",
    "show_img(noddi, 'NODDI', noddi_du, 'After downsample and upsample')"
   ]
  },
  {
   "cell_type": "code",
   "execution_count": 16,
   "metadata": {},
   "outputs": [],
   "source": [
    "def erosion_3d(img, kernel_size= 3):\n",
    "    eroded_img= -F.max_pool3d(-img.unsqueeze(0), kernel_size= kernel_size, stride= 1, padding= kernel_size//2)\n",
    "    return eroded_img.squeeze(0)"
   ]
  },
  {
   "cell_type": "code",
   "execution_count": 19,
   "metadata": {},
   "outputs": [],
   "source": [
    "noddi_eros= erosion_3d(noddi, 2)\n",
    "show_img(noddi, 'NODDI', noddi_eros, 'After erosion')"
   ]
  },
  {
   "cell_type": "code",
   "execution_count": 20,
   "metadata": {},
   "outputs": [],
   "source": [
    "def add_gaussian_noise(img, mean= 0.0, std= 0.1):\n",
    "    noise= torch.randn_like(img)* std+ mean\n",
    "    noisy_img= img+ noise\n",
    "    return torch.clamp(noisy_img, 0, 1)"
   ]
  },
  {
   "cell_type": "code",
   "execution_count": 22,
   "metadata": {},
   "outputs": [],
   "source": [
    "noddi_gauss_noise= add_gaussian_noise(noddi)\n",
    "noddi_gauss_noise[noddi<= 1e-2]= 0\n",
    "show_img(noddi, 'NODDI', noddi_gauss_noise, 'After add gaussian noise')"
   ]
  },
  {
   "cell_type": "code",
   "execution_count": 23,
   "metadata": {},
   "outputs": [],
   "source": [
    "def add_salt_and_pepper_noise(img, salt_prob= 0.01, pepper_prob= 0.01):\n",
    "    salt_mask= torch.rand_like(img)< salt_prob\n",
    "    pepper_mask= torch.rand_like(img)< pepper_prob\n",
    "    img[salt_mask]= 1.0\n",
    "    img[pepper_mask]= 0.0\n",
    "    return img"
   ]
  },
  {
   "cell_type": "code",
   "execution_count": 29,
   "metadata": {},
   "outputs": [],
   "source": [
    "noddi_sp_noise= add_salt_and_pepper_noise(noddi.clone())\n",
    "noddi_sp_noise[noddi<= 1e-2]= 0\n",
    "show_img(noddi, 'NODDI', noddi_sp_noise, 'After add salt and pepper noise')"
   ]
  },
  {
   "cell_type": "markdown",
   "metadata": {},
   "source": [
    "#### Meshgrid"
   ]
  },
  {
   "cell_type": "markdown",
   "metadata": {},
   "source": [
    "##### 关于index的区别"
   ]
  },
  {
   "cell_type": "code",
   "execution_count": 95,
   "metadata": {},
   "outputs": [
    {
     "data": {
      "text/plain": [
       "tensor([[[0, 1],\n",
       "         [0, 2],\n",
       "         [0, 3]],\n",
       "\n",
       "        [[1, 1],\n",
       "         [1, 2],\n",
       "         [1, 3]]])"
      ]
     },
     "execution_count": 95,
     "metadata": {},
     "output_type": "execute_result"
    }
   ],
   "source": [
    "torch.stack(torch.meshgrid([torch.tensor([0, 1]), torch.tensor([1, 2, 3])], indexing= 'ij'), dim= -1)"
   ]
  },
  {
   "cell_type": "code",
   "execution_count": 97,
   "metadata": {},
   "outputs": [
    {
     "data": {
      "text/plain": [
       "tensor([[[0, 1],\n",
       "         [1, 1]],\n",
       "\n",
       "        [[0, 2],\n",
       "         [1, 2]],\n",
       "\n",
       "        [[0, 3],\n",
       "         [1, 3]]])"
      ]
     },
     "execution_count": 97,
     "metadata": {},
     "output_type": "execute_result"
    }
   ],
   "source": [
    "torch.stack(torch.meshgrid([torch.tensor([0, 1]), torch.tensor([1, 2, 3])], indexing= 'xy'), dim= -1)"
   ]
  },
  {
   "cell_type": "markdown",
   "metadata": {},
   "source": [
    "结论：torch.meshgrid本质都是卡氏积，只不过表达形式不同而已"
   ]
  },
  {
   "cell_type": "markdown",
   "metadata": {},
   "source": [
    "##### 应用(张量选择元素)"
   ]
  },
  {
   "cell_type": "code",
   "execution_count": 86,
   "metadata": {},
   "outputs": [],
   "source": [
    "mat= torch.arange(0, 33, 1).view(11, 3)"
   ]
  },
  {
   "cell_type": "markdown",
   "metadata": {},
   "source": [
    "我要选择元素，行号为[0, 4, 8]，列号为[0, 2]"
   ]
  },
  {
   "cell_type": "code",
   "execution_count": 87,
   "metadata": {},
   "outputs": [
    {
     "data": {
      "text/plain": [
       "tensor([[ 0,  2],\n",
       "        [12, 14],\n",
       "        [24, 26]])"
      ]
     },
     "execution_count": 87,
     "metadata": {},
     "output_type": "execute_result"
    }
   ],
   "source": [
    "mat[[0, 4, 8], :][:, [0, 2]]"
   ]
  },
  {
   "cell_type": "code",
   "execution_count": 88,
   "metadata": {},
   "outputs": [
    {
     "data": {
      "text/plain": [
       "tensor([[ 0,  2],\n",
       "        [12, 14],\n",
       "        [24, 26]])"
      ]
     },
     "execution_count": 88,
     "metadata": {},
     "output_type": "execute_result"
    }
   ],
   "source": [
    "mat[torch.meshgrid(torch.tensor([0, 4, 8]), torch.tensor([0, 2]))]"
   ]
  },
  {
   "cell_type": "code",
   "execution_count": null,
   "metadata": {},
   "outputs": [],
   "source": []
  }
 ],
 "metadata": {
  "kernelspec": {
   "display_name": "th232",
   "language": "python",
   "name": "python3"
  },
  "language_info": {
   "codemirror_mode": {
    "name": "ipython",
    "version": 3
   },
   "file_extension": ".py",
   "mimetype": "text/x-python",
   "name": "python",
   "nbconvert_exporter": "python",
   "pygments_lexer": "ipython3",
   "version": "3.12.2"
  }
 },
 "nbformat": 4,
 "nbformat_minor": 2
}
